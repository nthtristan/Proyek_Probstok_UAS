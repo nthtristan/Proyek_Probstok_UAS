{
 "cells": [
  {
   "cell_type": "code",
   "execution_count": 12,
   "metadata": {},
   "outputs": [
    {
     "ename": "SyntaxError",
     "evalue": "(unicode error) 'unicodeescape' codec can't decode bytes in position 16-18: truncated \\UXXXXXXXX escape (<ipython-input-12-73852b3df811>, line 11)",
     "output_type": "error",
     "traceback": [
      "\u001b[1;36m  File \u001b[1;32m\"<ipython-input-12-73852b3df811>\"\u001b[1;36m, line \u001b[1;32m11\u001b[0m\n\u001b[1;33m    dbank = pd.read_csv('D:\\WORK\\Anaconda\\UAS\\Dataset\\FSE-DBK_X2.csv', parse_dates=True, index_col=0)\u001b[0m\n\u001b[1;37m                       ^\u001b[0m\n\u001b[1;31mSyntaxError\u001b[0m\u001b[1;31m:\u001b[0m (unicode error) 'unicodeescape' codec can't decode bytes in position 16-18: truncated \\UXXXXXXXX escape\n"
     ]
    }
   ],
   "source": [
    "#Import Library\n",
    "import numpy as np\n",
    "import matplotlib.pyplot as plt\n",
    "import pandas as pd\n",
    "import datetime\n",
    "import pandas_datareader.data as web\n",
    "from pandas import Series, DataFrame\n",
    "from pandas.plotting import register_matplotlib_converters\n",
    "\n",
    "#Gain data from Yahoo Finance\n",
    "dbank = pd.read_csv('D:\\WORK\\Anaconda\\UAS\\Dataset\\FSE-DBK_X2.csv', parse_dates=True, index_col=0)\n",
    "comd = pd.read_csv('D:\\WORK\\Anaconda\\UAS\\Dataset\\FSE-COM_X2.csv', parse_dates=True, index_col=0)\n",
    "\n",
    "#Plotting Stock Prices\n",
    "dbank['Close'].plot(label='DBK-DeutscheBank',figsize=(10,10))\n",
    "dbank.reset_index(inplace=True)\n",
    "dbank.set_index('Date', inplace=True)\n",
    "\n",
    "comd['Close'].plot(label='COM-comdirectbankAG')\n",
    "comd.reset_index(inplace=True)\n",
    "comd.set_index('Date', inplace=True)\n",
    "\n",
    "plt.xlabel('Date')\n",
    "plt.ylabel('Closure Price')\n",
    "plt.title('Deutsche Bank and comdirect bank AG Stock Price Comparison')\n",
    "plt.legend()\n",
    "plt.show()"
   ]
  },
  {
   "cell_type": "code",
   "execution_count": null,
   "metadata": {},
   "outputs": [],
   "source": []
  }
 ],
 "metadata": {
  "kernelspec": {
   "display_name": "Python 3",
   "language": "python",
   "name": "python3"
  },
  "language_info": {
   "codemirror_mode": {
    "name": "ipython",
    "version": 3
   },
   "file_extension": ".py",
   "mimetype": "text/x-python",
   "name": "python",
   "nbconvert_exporter": "python",
   "pygments_lexer": "ipython3",
   "version": "3.7.4"
  }
 },
 "nbformat": 4,
 "nbformat_minor": 2
}
